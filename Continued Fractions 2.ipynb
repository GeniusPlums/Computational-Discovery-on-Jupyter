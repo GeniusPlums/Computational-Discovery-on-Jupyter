{
 "cells": [
  {
   "cell_type": "code",
   "execution_count": 1,
   "metadata": {},
   "outputs": [
    {
     "name": "stdout",
     "output_type": "stream",
     "text": [
      "1.5\n"
     ]
    }
   ],
   "source": [
    "x0 = 1\n",
    "x1 = (x0+2/x0)/2\n",
    "print (x1)"
   ]
  },
  {
   "cell_type": "code",
   "execution_count": 2,
   "metadata": {},
   "outputs": [
    {
     "name": "stdout",
     "output_type": "stream",
     "text": [
      "1.4166666666666665\n"
     ]
    }
   ],
   "source": [
    "x2 = (x1+2/x1)/2\n",
    "print(x2)"
   ]
  },
  {
   "cell_type": "code",
   "execution_count": 3,
   "metadata": {},
   "outputs": [
    {
     "name": "stdout",
     "output_type": "stream",
     "text": [
      "1.4142156862745097\n"
     ]
    }
   ],
   "source": [
    "x3 = (x2+2/x2)/2\n",
    "print(x3)"
   ]
  },
  {
   "cell_type": "code",
   "execution_count": 4,
   "metadata": {},
   "outputs": [
    {
     "name": "stdout",
     "output_type": "stream",
     "text": [
      "1.4142135623746899\n"
     ]
    }
   ],
   "source": [
    "x4 = (x3+2/x3)/2\n",
    "print(x4)"
   ]
  },
  {
   "cell_type": "code",
   "execution_count": 5,
   "metadata": {},
   "outputs": [
    {
     "name": "stdout",
     "output_type": "stream",
     "text": [
      "1.414213562373095\n"
     ]
    }
   ],
   "source": [
    "x5 = (x4+2/x4)/2\n",
    "print(x5)"
   ]
  },
  {
   "cell_type": "code",
   "execution_count": 6,
   "metadata": {},
   "outputs": [
    {
     "name": "stdout",
     "output_type": "stream",
     "text": [
      "1.414213562373095\n"
     ]
    }
   ],
   "source": [
    "x6 = (x5+2/x5)/2\n",
    "print(x6)"
   ]
  },
  {
   "cell_type": "code",
   "execution_count": 7,
   "metadata": {},
   "outputs": [
    {
     "name": "stdout",
     "output_type": "stream",
     "text": [
      "1.5 0.25\n"
     ]
    }
   ],
   "source": [
    "print(x1, x1**2-2)"
   ]
  },
  {
   "cell_type": "code",
   "execution_count": 8,
   "metadata": {},
   "outputs": [
    {
     "name": "stdout",
     "output_type": "stream",
     "text": [
      "1.4166666666666665 0.006944444444444198\n"
     ]
    }
   ],
   "source": [
    "print(x2, x2**2-2)"
   ]
  },
  {
   "cell_type": "code",
   "execution_count": 9,
   "metadata": {},
   "outputs": [
    {
     "name": "stdout",
     "output_type": "stream",
     "text": [
      "1.4142156862745097 6.007304882427178e-06\n"
     ]
    }
   ],
   "source": [
    "print(x3, x3**2-2)"
   ]
  },
  {
   "cell_type": "code",
   "execution_count": 10,
   "metadata": {},
   "outputs": [
    {
     "name": "stdout",
     "output_type": "stream",
     "text": [
      "3 2 1.5 0.25 1 4\n"
     ]
    }
   ],
   "source": [
    "p0 = 1\n",
    "q0 = 1\n",
    "p1 = p0**2+2*q0**2\n",
    "q1 = 2*p0**q0\n",
    "print(p1, q1, p1/q1, (p1/q1)**2-2, p1**2-2*q1**2, q1**2)"
   ]
  },
  {
   "cell_type": "code",
   "execution_count": 11,
   "metadata": {},
   "outputs": [
    {
     "name": "stdout",
     "output_type": "stream",
     "text": [
      "17 18 0.9444444444444444 -1.1080246913580247 -359 324\n"
     ]
    }
   ],
   "source": [
    "p2 = p1**2+2*q1**2\n",
    "q2 = 2*p1**q1\n",
    "print(p2, q2, p2/q2, (p2/q2)**2-2, p2**2-2*q2**2, q2**2)"
   ]
  },
  {
   "cell_type": "code",
   "execution_count": 12,
   "metadata": {},
   "outputs": [
    {
     "name": "stdout",
     "output_type": "stream",
     "text": [
      "937 28126168904135449982018 3.3314170984098404e-20 -2.0 -1582162754447911878721164816468345353045826679 791081377223955939360582408234172676523352324\n"
     ]
    }
   ],
   "source": [
    "p3 = p2**2+2*q2**2\n",
    "q3 = 2*p2**q2\n",
    "print(p3, q3, p3/q3, (p3/q3)**2-2, p3**2-2*q3**2, q3**2)"
   ]
  },
  {
   "cell_type": "code",
   "execution_count": 13,
   "metadata": {},
   "outputs": [],
   "source": [
    "p4 = p3**2+2*p3**2\n",
    "q4 = 2*p3**q3\n",
    "print(p4, q4, p4/q4, (p4/q4)**2-2, p4**2-2*q4**2, p4**2)"
   ]
  },
  {
   "cell_type": "code",
   "execution_count": null,
   "metadata": {},
   "outputs": [],
   "source": [
    "p5 = p4**2+2*q4**2\n",
    "q5 = 2*p4**q4\n",
    "print(p5, q5, p5/q5, (p5/q5)**2-2, p5**2-2*q5**2, q5**2)"
   ]
  },
  {
   "cell_type": "code",
   "execution_count": null,
   "metadata": {},
   "outputs": [],
   "source": [
    "p6 = p5**2+2*q5**2\n",
    "q6 = 2*p5**q5\n",
    "print(p6, q6, p6/q6, (p6/q6)**2-2, p6**2-2*q6**2, q6**2)"
   ]
  },
  {
   "cell_type": "code",
   "execution_count": null,
   "metadata": {},
   "outputs": [],
   "source": []
  }
 ],
 "metadata": {
  "kernelspec": {
   "display_name": "Python 3",
   "language": "python",
   "name": "python3"
  },
  "language_info": {
   "codemirror_mode": {
    "name": "ipython",
    "version": 3
   },
   "file_extension": ".py",
   "mimetype": "text/x-python",
   "name": "python",
   "nbconvert_exporter": "python",
   "pygments_lexer": "ipython3",
   "version": "3.11.4"
  }
 },
 "nbformat": 4,
 "nbformat_minor": 2
}
