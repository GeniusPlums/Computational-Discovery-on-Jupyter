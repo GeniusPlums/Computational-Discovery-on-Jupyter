{
 "cells": [
  {
   "cell_type": "code",
   "execution_count": 1,
   "metadata": {},
   "outputs": [
    {
     "name": "stdout",
     "output_type": "stream",
     "text": [
      "[1, 1.5, 1.4166666666666667, 1.4142156862745099]\n"
     ]
    }
   ],
   "source": [
    "# The first four terms of our mysterious sequence, as floating-point numbers\n",
    "L = [1,3.0/2.0, 17.0/12.0, 577.0/408.0]\n",
    "print( L )"
   ]
  },
  {
   "cell_type": "code",
   "execution_count": 2,
   "metadata": {},
   "outputs": [
    {
     "name": "stdout",
     "output_type": "stream",
     "text": [
      "[1, 2.25, 2.0069444444444446, 2.000006007304883]\n"
     ]
    }
   ],
   "source": [
    "sq = [s**2 for s in L]\n",
    "print( sq )"
   ]
  },
  {
   "cell_type": "code",
   "execution_count": 3,
   "metadata": {},
   "outputs": [
    {
     "data": {
      "image/png": "[encoded data removed]",
      "text/plain": [
       "<Figure size 600x600 with 1 Axes>"
      ]
     },
     "metadata": {},
     "output_type": "display_data"
    }
   ],
   "source": [
    "from matplotlib import pyplot as plt\n",
    "\n",
    "fig = plt.figure(figsize=(6, 6))\n",
    "ax = fig.add_axes([0,0,1,1])\n",
    "\n",
    "# Draw a square of side length L[0] = 1 # 'r' means \"red\"\n",
    "plt.plot( [0, 0],        [0, L[0]],    'r' ) # line from origin to top left corner\n",
    "plt.plot( [0, L[0]],    [L[0],L[0]], 'r' ) # line from top left to top right\n",
    "plt.plot( [L[0],L[0]], [L[0],0],     'r' ) # line from top right to bottom right\n",
    "plt.plot( [L[0],0],     [0,0],         'r' ) # line from bottom right to the origin\n",
    "\n",
    "# Now do a square of length L[1] = 3/2 # 'k' means \"black\" (use shorter code, this time)\n",
    "# We list all x-values first, then all y-values.  We have five points because we want to \n",
    "# draw all around the square, including back to the origin (0,0) where we started\n",
    "plt.plot( [0, L[1], L[1], 0, 0 ], [0, 0, L[1], L[1], 0], 'k')  # all at once: all x, all y\n",
    "\n",
    "# Now do a square of length L[2] = 17/12 # 'b' means \"blue\"\n",
    "plt.plot( [0, L[2], L[2], 0, 0 ], [0, 0, L[2], L[2], 0], 'b')  # all at once: all x, all y\n",
    "\n",
    "# Now do a square of length L[3] = 577/408 # 'g' means \"green\" (uncomment the line below to see)\n",
    "plt.plot( [0, L[3], L[3], 0, 0 ], [0, 0, L[3], L[3], 0], 'g')  # all at once: all x, all y\n",
    "\n",
    "# Scale them all and draw them\n",
    "ax.set_xlim( [-0.25, 1.75] )\n",
    "ax.set_ylim( [-0.25, 1.75] )\n",
    "plt.axis('equal')\n",
    "plt.show()"
   ]
  },
  {
   "cell_type": "code",
   "execution_count": null,
   "metadata": {},
   "outputs": [],
   "source": []
  },
  {
   "cell_type": "code",
   "execution_count": null,
   "metadata": {},
   "outputs": [],
   "source": []
  }
 ],
 "metadata": {
  "kernelspec": {
   "display_name": "Python 3",
   "language": "python",
   "name": "python3"
  },
  "language_info": {
   "codemirror_mode": {
    "name": "ipython",
    "version": 3
   },
   "file_extension": ".py",
   "mimetype": "text/x-python",
   "name": "python",
   "nbconvert_exporter": "python",
   "pygments_lexer": "ipython3",
   "version": "3.11.4"
  }
 },
 "nbformat": 4,
 "nbformat_minor": 2
}
